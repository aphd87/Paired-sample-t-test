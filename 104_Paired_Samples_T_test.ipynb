{
 "cells": [
  {
   "cell_type": "code",
   "execution_count": 1,
   "id": "a94d6a07",
   "metadata": {},
   "outputs": [
    {
     "data": {
      "text/html": [
       "<style>.container { width:100% !important; }</style>"
      ],
      "text/plain": [
       "<IPython.core.display.HTML object>"
      ]
     },
     "metadata": {},
     "output_type": "display_data"
    }
   ],
   "source": [
    "import pandas as pd\n",
    "import numpy as np\n",
    "import matplotlib.pyplot as plt\n",
    "from scipy.stats import ttest_rel, norm\n",
    "#rel = related\n",
    "#Paired T-test - before/after samples\n",
    "from IPython.display import display, HTML\n",
    "display(HTML(\"<style>.container { width:100% !important; }</style>\"))"
   ]
  },
  {
   "cell_type": "code",
   "execution_count": 6,
   "id": "03414a71",
   "metadata": {},
   "outputs": [],
   "source": [
    "before = norm.rvs(loc=500, scale = 100, size = 100, random_state = 42).astype(int)\n",
    "\n",
    "np.random.seed(42)\n",
    "after = before + np.random.randint(low = -50, high = 75, size = 100)\n",
    "#low/high parameters, 100 random integers"
   ]
  },
  {
   "cell_type": "code",
   "execution_count": 8,
   "id": "a9f89dce",
   "metadata": {},
   "outputs": [
    {
     "data": {
      "image/png": "[encoded data removed]",
      "text/plain": [
       "<Figure size 640x480 with 1 Axes>"
      ]
     },
     "metadata": {},
     "output_type": "display_data"
    }
   ],
   "source": [
    "plt.hist(before, density = True, alpha = 0.5, label =  \"Before\")\n",
    "plt.hist(after, density = True, alpha = 0.5, label =  \"After\")\n",
    "plt.legend()\n",
    "plt.show()"
   ]
  },
  {
   "cell_type": "code",
   "execution_count": null,
   "id": "584414bb",
   "metadata": {},
   "outputs": [],
   "source": [
    "#The distributions are a bit different here."
   ]
  },
  {
   "cell_type": "code",
   "execution_count": 10,
   "id": "4642581a",
   "metadata": {},
   "outputs": [
    {
     "name": "stdout",
     "output_type": "stream",
     "text": [
      "489.15 499.45\n"
     ]
    }
   ],
   "source": [
    "before_mean = before.mean()\n",
    "after_mean = after.mean()\n",
    "print(before_mean, after_mean)"
   ]
  },
  {
   "cell_type": "code",
   "execution_count": 11,
   "id": "ace072d3",
   "metadata": {},
   "outputs": [],
   "source": [
    "#These means are relatively close\n",
    "\n",
    "null_hypothesis = \"The mean of the before sample is equal to the mean of the after sample\"\n",
    "alternate_hypothesis = \"The mean of the before sample is different to the mean of the after sample\"\n",
    "acceptance_criteria = 0.05"
   ]
  },
  {
   "cell_type": "code",
   "execution_count": 14,
   "id": "57ca0c30",
   "metadata": {},
   "outputs": [
    {
     "name": "stdout",
     "output_type": "stream",
     "text": [
      "-2.8179652769230237 0.005835901774122185\n"
     ]
    }
   ],
   "source": [
    "#Execute the hypothesis test\n",
    "\n",
    "t_statistic, p_value = ttest_rel(before, after)\n",
    "print(t_statistic, p_value)"
   ]
  },
  {
   "cell_type": "code",
   "execution_count": 15,
   "id": "8489292d",
   "metadata": {},
   "outputs": [
    {
     "name": "stdout",
     "output_type": "stream",
     "text": [
      "As our p-value of 0.005835901774122185 is lower than our acceptance criteria of 0.05 - we reject the null hypothesis, and conclude that: The mean of the before sample is different to the mean of the after sample\n"
     ]
    }
   ],
   "source": [
    "#Print the results\n",
    "if p_value <= acceptance_criteria:\n",
    "    print(f\"As our p-value of {p_value} is lower than our acceptance criteria of {acceptance_criteria} - we reject the null hypothesis, and conclude that: {alternate_hypothesis}\")\n",
    "else:\n",
    "    print(f\"As our p-value of {p_value} is higher than our acceptance criteria {acceptance_criteria} - we accept the null hypothesis, and conclude that: {null_hypothesis}\")\n"
   ]
  },
  {
   "cell_type": "code",
   "execution_count": 21,
   "id": "5cce6ebe",
   "metadata": {},
   "outputs": [
    {
     "name": "stdout",
     "output_type": "stream",
     "text": [
      "-2.8179652769230237 0.005835901774122185\n"
     ]
    }
   ],
   "source": [
    "#Welch's T-Test\n",
    "#This is more reliable - it takes into account if samples are not equal\n",
    "\n",
    "#Execute the hypothesis test\n",
    "\n",
    "t_statistic, p_value = ttest_rel(before, after)\n",
    "print(t_statistic, p_value)\n",
    "#We have different results here, but we will still have the same conclusion - we are less confident in difference between two samples"
   ]
  },
  {
   "cell_type": "code",
   "execution_count": 22,
   "id": "c01d97b6",
   "metadata": {},
   "outputs": [
    {
     "name": "stdout",
     "output_type": "stream",
     "text": [
      "As our p-value of 0.005835901774122185 is lower than our acceptance criteria of 0.05 - we reject the null hypothesis, and conclude that: The mean of the before sample is different to the mean of the after sample\n"
     ]
    }
   ],
   "source": [
    "#Print the results\n",
    "if p_value <= acceptance_criteria:\n",
    "    print(f\"As our p-value of {p_value} is lower than our acceptance criteria of {acceptance_criteria} - we reject the null hypothesis, and conclude that: {alternate_hypothesis}\")\n",
    "else:\n",
    "    print(f\"As our p-value of {p_value} is higher than our acceptance criteria {acceptance_criteria} - we accept the null hypothesis, and conclude that: {null_hypothesis}\")\n"
   ]
  },
  {
   "cell_type": "code",
   "execution_count": null,
   "id": "f3c86373",
   "metadata": {},
   "outputs": [],
   "source": []
  },
  {
   "cell_type": "code",
   "execution_count": null,
   "id": "a4e0c5a9",
   "metadata": {},
   "outputs": [],
   "source": []
  }
 ],
 "metadata": {
  "kernelspec": {
   "display_name": "Python 3 (ipykernel)",
   "language": "python",
   "name": "python3"
  },
  "language_info": {
   "codemirror_mode": {
    "name": "ipython",
    "version": 3
   },
   "file_extension": ".py",
   "mimetype": "text/x-python",
   "name": "python",
   "nbconvert_exporter": "python",
   "pygments_lexer": "ipython3",
   "version": "3.11.5"
  }
 },
 "nbformat": 4,
 "nbformat_minor": 5
}
